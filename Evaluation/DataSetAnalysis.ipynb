{
 "cells": [
  {
   "cell_type": "code",
   "execution_count": 8,
   "metadata": {},
   "outputs": [
    {
     "name": "stdout",
     "output_type": "stream",
     "text": [
      "The autoreload extension is already loaded. To reload it, use:\n",
      "  %reload_ext autoreload\n",
      "The dotenv extension is already loaded. To reload it, use:\n",
      "  %reload_ext dotenv\n"
     ]
    }
   ],
   "source": [
    "import sys\n",
    "sys.path.append('../')\n",
    "\n",
    "import os\n",
    "from pathlib import Path\n",
    "import numpy as np\n",
    "\n",
    "%load_ext autoreload\n",
    "%autoreload 2\n",
    "from _util.make_folder_dataset import MakeFolderDataset\n",
    "\n",
    "\n",
    "#load environment variables from .env file in repo root\n",
    "%load_ext dotenv\n",
    "%dotenv"
   ]
  },
  {
   "cell_type": "code",
   "execution_count": 9,
   "metadata": {},
   "outputs": [
    {
     "name": "stdout",
     "output_type": "stream",
     "text": [
      "x_single_left_offset100ms_step4.npy: (254, 40, 42)\n",
      "x_single_left_offset25ms_step4.npy: (253, 40, 42)\n",
      "x_single_left_offset50ms_step4.npy: (253, 40, 42)\n",
      "x_single_left_offset75ms_step4.npy: (254, 40, 42)\n",
      "x_sliding_left_offset100ms_step1.npy: (10327, 40, 42)\n",
      "x_sliding_left_offset100ms_step4.npy: (2771, 40, 42)\n",
      "x_sliding_left_offset15ms_step1.npy: (14587, 40, 42)\n",
      "x_sliding_left_offset15ms_step4.npy: (3773, 40, 42)\n",
      "x_sliding_left_offset25ms_step1.npy: (14081, 40, 42)\n",
      "x_sliding_left_offset25ms_step4.npy: (3521, 40, 42)\n",
      "x_sliding_left_offset50ms_step1.npy: (12816, 40, 42)\n",
      "x_sliding_left_offset50ms_step4.npy: (3268, 40, 42)\n",
      "x_sliding_left_offset5ms_step1.npy: (15093, 40, 42)\n",
      "x_sliding_left_offset5ms_step4.npy: (3774, 40, 42)\n",
      "x_sliding_left_offset75ms_step1.npy: (11597, 40, 42)\n",
      "x_sliding_left_offset75ms_step4.npy: (3026, 40, 42)\n"
     ]
    }
   ],
   "source": [
    "\n",
    "#DATASET_REPO_ROOT_PATH=<absolute-path-to-dataset-repo-root-folder>\n",
    "complete_datasets_path = Path(os.environ.get(\"DATASET_REPO_ROOT_PATH\")) / \"processedData\" / \"complete\"\n",
    "for p in [p for p in complete_datasets_path.iterdir() if p.is_file() and p.name.startswith(\"x_\") and p.suffix == \".npy\"]:\n",
    "    x = np.load(str(p.absolute()))\n",
    "    print(f\"{p.name}: {x.shape}\")"
   ]
  }
 ],
 "metadata": {
  "kernelspec": {
   "display_name": "venv",
   "language": "python",
   "name": "python3"
  },
  "language_info": {
   "codemirror_mode": {
    "name": "ipython",
    "version": 3
   },
   "file_extension": ".py",
   "mimetype": "text/x-python",
   "name": "python",
   "nbconvert_exporter": "python",
   "pygments_lexer": "ipython3",
   "version": "3.11.5"
  }
 },
 "nbformat": 4,
 "nbformat_minor": 2
}
