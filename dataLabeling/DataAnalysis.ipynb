{
 "cells": [
  {
   "cell_type": "code",
   "execution_count": null,
   "metadata": {},
   "outputs": [],
   "source": [
    "#%pip install numpy\n",
    "#%pip install pandas\n",
    "#%pip install ipykernel\n",
    "#%pip install plotly\n",
    "#%pip install nbformat "
   ]
  },
  {
   "cell_type": "code",
   "execution_count": null,
   "metadata": {},
   "outputs": [],
   "source": [
    "import os\n",
    "import numpy as np\n",
    "import pandas as pd\n",
    "import plotly.graph_objs as go\n",
    "from plotly.offline import iplot"
   ]
  },
  {
   "attachments": {},
   "cell_type": "markdown",
   "metadata": {},
   "source": [
    "# Extract and synchronize data "
   ]
  },
  {
   "cell_type": "code",
   "execution_count": null,
   "metadata": {},
   "outputs": [],
   "source": [
    "class MakeFolderDataset:\n",
    "    def __init__(self, folder_path:str) -> None:\n",
    "        self.path = folder_path\n",
    "        self.num_lines_per_message = 130\n",
    "        self.df = pd.DataFrame()\n",
    "        self.df_dataset = pd.DataFrame()\n",
    "        self.true_label = pd.DataFrame()\n",
    "        self.tau = ['tau_J0','tau_J1', 'tau_J2', 'tau_J3', 'tau_J4', 'tau_J5', 'tau_J6']\n",
    "        self.tau_d = ['tau_J_d0','tau_J_d1', 'tau_J_d2', 'tau_J_d3', 'tau_J_d4', 'tau_J_d5', 'tau_J_d6']\n",
    "        self.tau_ext =['tau_ext0','tau_ext1','tau_ext2','tau_ext3','tau_ext4','tau_ext5','tau_ext6']\n",
    "\n",
    "        self.q = ['q0','q1','q2','q3','q4','q5','q6']\n",
    "        self.q_d = ['q_d0','q_d1','q_d2','q_d3','q_d4','q_d5','q_d6']\n",
    "\n",
    "        self.dq = ['dq0','dq1','dq2','dq3','dq4','dq5','dq6']\n",
    "        self.dq_d = ['dq_d0','dq_d1','dq_d2','dq_d3','dq_d4','dq_d5','dq_d6']\n",
    "\n",
    "\n",
    "        self.e = ['e0','e1','e2','e3','e4','e5','e6']\n",
    "        self.de = ['de0','de1','de2','de3','de4','de5','de6']\n",
    "        self.etau = ['etau_J0','etau_J1', 'etau_J2', 'etau_J3', 'etau_J4', 'etau_J5', 'etau_J6']\n",
    "    \n",
    "    def _extract_array(self, data_dict:dict, data_frame:str, header:list,  n:int):\n",
    "            _, y = data_frame[n].split(':')\n",
    "            y = y.replace('[','')\n",
    "            y = y.replace(']','')\n",
    "            y = y.replace('\\n','')\n",
    "            y = y.split(',')\n",
    "            for i, h in enumerate(header):\n",
    "                data_dict[h].append(float(y[i]))\n",
    "\n",
    "    def extract_robot_data(self):\n",
    "        # it extracts robot data from all_data.txt\n",
    "        f = open(self.path + 'all_data.txt', 'r')\n",
    "        lines = f.readlines()\n",
    "\n",
    "        keywords = ['time'] + self.tau + self.tau_d + self.tau_ext + self.q + self.q_d + self.dq + self.dq_d \n",
    "        data_dict = dict.fromkeys(keywords)\n",
    "        for i in keywords:\n",
    "            data_dict[i]=[0]\n",
    "        \n",
    "        for i in range(int(len(lines)/self.num_lines_per_message)):\n",
    "            data_frame = lines[i*self.num_lines_per_message:(i+1)*self.num_lines_per_message]\n",
    "            \n",
    "            # extract exact time from file sec + nsec\n",
    "            _, y = data_frame[3].split(':')\n",
    "            time_ = int(y)-int(int(y)/1000000)*1000000\n",
    "\n",
    "            _, y = data_frame[4].split(':')\n",
    "            time_ = time_+int(y)/np.power(10,9)\n",
    "\n",
    "            data_dict['time'].append(time_)\n",
    "            \n",
    "            self._extract_array(data_dict,data_frame,self.tau, 25)\n",
    "            self._extract_array(data_dict,data_frame,self.tau_d, 26)\n",
    "            self._extract_array(data_dict,data_frame, self.tau_ext, 37)\n",
    "            \n",
    "            self._extract_array(data_dict,data_frame,self.q, 28)\n",
    "            \n",
    "            self._extract_array(data_dict,data_frame, self.q_d, 29)\n",
    "            self._extract_array(data_dict,data_frame, self.dq, 30)\n",
    "            self._extract_array(data_dict,data_frame, self.dq_d, 31)\n",
    "        \n",
    "       \n",
    "        self.df = pd.DataFrame.from_dict(data_dict)\n",
    "        self.df = self.df.drop(index=0).reset_index()\n",
    "        for i in range(len(self.e)):\n",
    "            self.df[self.e[i]] = self.df[self.q_d[i]]-self.df[self.q[i]]\n",
    "            self.df[self.de[i]] = self.df[self.dq_d[i]]-self.df[self.dq[i]]\n",
    "            self.df[self.etau[i]] = self.df[self.tau_d[i]]-self.df[self.tau[i]]\n",
    "\n",
    "\n",
    "    def get_labels_All(self):\n",
    "        self.true_label = pd.read_csv(self.path+'true_label.csv')\n",
    "        self.true_label['time'] = self.true_label['time_sec']+self.true_label['time_nsec']-self.df['time'][0]\n",
    "        self.df['time'] = self.df['time'] - self.df['time'][0]\n",
    "        self.df['label']= 0\n",
    "      \n",
    "        self.true_label['time_dev'] = self.true_label['time'].diff()\n",
    "        \n",
    "        # Find indices where 'time_dev' is greater than 0.05\n",
    "        indices = self.true_label[self.true_label['time_dev'] > 0.05].index\n",
    "\n",
    "        # Iterate through indices in reverse order to avoid index shifting issues\n",
    "        for i in indices[::-1]:\n",
    "     \n",
    "            # Create a new row with the same values except for DATA0 which is set to 0\n",
    "            new_row = self.true_label.iloc[i].to_frame().T\n",
    "            new_row['DATA0'] = 0\n",
    "            \n",
    "            # Concatenate the DataFrame slices properly to avoid duplication\n",
    "            self.true_label = pd.concat([self.true_label.iloc[:i], new_row, self.true_label.iloc[i:]])\n",
    "            \n",
    "\n",
    "        # Reset index after concatenation\n",
    "        self.true_label = self.true_label.reset_index(drop=True)\n",
    "\n",
    "        # Sort the DataFrame by the 'time' column to maintain order\n",
    "        self.true_label = self.true_label.sort_values(by='time')\n",
    "        \n",
    "    \n"
   ]
  },
  {
   "cell_type": "markdown",
   "metadata": {},
   "source": [
    "## Load data"
   ]
  },
  {
   "cell_type": "code",
   "execution_count": null,
   "metadata": {},
   "outputs": [],
   "source": [
    "instances = []\n",
    "# change to + '/' when used with linux\n",
    "cwd = os.getcwd() + '\\\\'\n",
    "for i in os.listdir(cwd):\n",
    "    if not i.endswith('.ipynb'):\n",
    "        instance = MakeFolderDataset(cwd+i+'\\\\')\n",
    "        instance.extract_robot_data()\n",
    "        instance.get_labels_All()\n",
    "        instances.append(instance)"
   ]
  },
  {
   "cell_type": "markdown",
   "metadata": {},
   "source": [
    "# Plot data"
   ]
  },
  {
   "cell_type": "code",
   "execution_count": null,
   "metadata": {},
   "outputs": [],
   "source": [
    "target = ['etau_J0','etau_J1', 'etau_J2', 'etau_J3', 'etau_J4', 'etau_J5', 'etau_J6']\n",
    "#target = ['e0','e1','e2','e3','e4','e5','e6']\n",
    "#target = ['de0','de1','de2','de3','de4','de5','de6']\n",
    "\n",
    "for i in target:\n",
    "    for inst in instances:\n",
    "        # label gets scaled otherwise measure and label are not visible properly on plot\n",
    "        A = inst.df[i].max()-inst.df[i].min()\n",
    "        inst.true_label['label_scaled']=inst.true_label['DATA0']*A + inst.df[i].min() \n",
    "\n",
    "        # use plotly to make interactive plots\n",
    "        trace1 = go.Scatter(x=inst.true_label['time'], y=inst.true_label['label_scaled'], name='true label')\n",
    "        trace2 = go.Scatter(x=inst.df['time'], y=inst.df[i], mode='lines', name='robot data')\n",
    "        data = [trace1, trace2]\n",
    "        layout = go.Layout(title=f'{i} (instance {os.path.basename(os.path.normpath(inst.path))})',\n",
    "                        xaxis=dict(title='time(sec)'),\n",
    "                        yaxis=dict(title='Y-axis'))\n",
    "        fig = go.Figure(data=data, layout=layout)\n",
    "        iplot(fig)"
   ]
  }
 ],
 "metadata": {
  "kernelspec": {
   "display_name": "Python 3",
   "language": "python",
   "name": "python3"
  },
  "language_info": {
   "codemirror_mode": {
    "name": "ipython",
    "version": 3
   },
   "file_extension": ".py",
   "mimetype": "text/x-python",
   "name": "python",
   "nbconvert_exporter": "python",
   "pygments_lexer": "ipython3",
   "version": "3.11.5"
  },
  "orig_nbformat": 4
 },
 "nbformat": 4,
 "nbformat_minor": 2
}
