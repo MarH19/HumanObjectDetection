{
 "cells": [
  {
   "cell_type": "code",
   "execution_count": null,
   "metadata": {},
   "outputs": [],
   "source": [
    "import os\n",
    "import plotly.graph_objs as go\n",
    "from plotly.offline import iplot\n",
    "from pathlib import Path\n",
    "import git"
   ]
  },
  {
   "cell_type": "code",
   "execution_count": null,
   "metadata": {},
   "outputs": [],
   "source": [
    "%load_ext autoreload\n",
    "%autoreload 2\n",
    "from make_folder_dataset import MakeFolderDataset"
   ]
  },
  {
   "cell_type": "markdown",
   "metadata": {},
   "source": [
    "## Load data"
   ]
  },
  {
   "cell_type": "code",
   "execution_count": null,
   "metadata": {},
   "outputs": [],
   "source": [
    "def get_git_root():\n",
    "    git_repo = git.Repo(os.getcwd(), search_parent_directories=True)\n",
    "    return git_repo.git.rev_parse(\"--show-toplevel\")"
   ]
  },
  {
   "cell_type": "code",
   "execution_count": null,
   "metadata": {},
   "outputs": [],
   "source": [
    "instances = []\n",
    "dataset_path = Path(get_git_root()) / \"dataset\"\n",
    "for p in dataset_path.iterdir():\n",
    "    if p.is_dir() and not p.name == \"_ignore\":\n",
    "        instance = MakeFolderDataset(p.absolute())\n",
    "        instance.extract_robot_data()\n",
    "        instance.get_labels_all()\n",
    "        instances.append(instance)"
   ]
  },
  {
   "cell_type": "markdown",
   "metadata": {},
   "source": [
    "# Plot data"
   ]
  },
  {
   "cell_type": "code",
   "execution_count": null,
   "metadata": {},
   "outputs": [],
   "source": [
    "target = ['etau_J0','etau_J1', 'etau_J2', 'etau_J3', 'etau_J4', 'etau_J5', 'etau_J6']\n",
    "#target = ['e0','e1','e2','e3','e4','e5','e6']\n",
    "#target = ['de0','de1','de2','de3','de4','de5','de6']\n",
    "\n",
    "for i in target:\n",
    "    for inst in instances:\n",
    "        # label gets scaled otherwise measure and label are not visible properly on plot\n",
    "        A = inst.df[i].max()-inst.df[i].min()\n",
    "        inst.true_label['label_scaled']=inst.true_label['DATA0']*A + inst.df[i].min() \n",
    "\n",
    "        # use plotly to make interactive plots\n",
    "        trace1 = go.Scatter(x=inst.true_label['time'], y=inst.true_label['label_scaled'], name='true label')\n",
    "        trace2 = go.Scatter(x=inst.df['time'], y=inst.df[i], mode='lines', name='robot data')\n",
    "        data = [trace1, trace2]\n",
    "        layout = go.Layout(title=f'{i} (instance {os.path.basename(os.path.normpath(inst.path))})',\n",
    "                        xaxis=dict(title='time(sec)'),\n",
    "                        yaxis=dict(title='Y-axis'))\n",
    "        fig = go.Figure(data=data, layout=layout)\n",
    "        iplot(fig)"
   ]
  }
 ],
 "metadata": {
  "kernelspec": {
   "display_name": "Python 3",
   "language": "python",
   "name": "python3"
  },
  "language_info": {
   "codemirror_mode": {
    "name": "ipython",
    "version": 3
   },
   "file_extension": ".py",
   "mimetype": "text/x-python",
   "name": "python",
   "nbconvert_exporter": "python",
   "pygments_lexer": "ipython3",
   "version": "3.12.0"
  },
  "orig_nbformat": 4
 },
 "nbformat": 4,
 "nbformat_minor": 2
}
